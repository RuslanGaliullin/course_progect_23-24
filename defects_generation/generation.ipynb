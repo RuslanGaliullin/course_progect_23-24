{
 "cells": [
  {
   "cell_type": "code",
   "execution_count": 1,
   "id": "sorted-ideal",
   "metadata": {},
   "outputs": [],
   "source": [
    "import json\n",
    "from generation import generate_defect_set"
   ]
  },
  {
   "cell_type": "code",
   "execution_count": 2,
   "id": "romance-italian",
   "metadata": {},
   "outputs": [],
   "source": [
    "with open(\"X1S6_descriptors.json\") as file:\n",
    "    descriptors = json.load(file)"
   ]
  },
  {
   "cell_type": "code",
   "execution_count": 3,
   "id": "strategic-engineer",
   "metadata": {},
   "outputs": [
    {
     "name": "stderr",
     "output_type": "stream",
     "text": [
      "/Users/rmgaliullin/ai4material_design/.venv/lib/python3.9/site-packages/pymatgen/io/cif.py:1168: UserWarning: Issues encountered while parsing CIF: Some fractional coordinates rounded to ideal values to avoid issues with finite precision.\n",
      "  warnings.warn(\"Issues encountered while parsing CIF: \" + \"\\n\".join(self.warnings))\n"
     ]
    },
    {
     "ename": "IndexError",
     "evalue": "list index out of range",
     "output_type": "error",
     "traceback": [
      "\u001b[0;31m---------------------------------------------------------------------------\u001b[0m",
      "\u001b[0;31mIndexError\u001b[0m                                Traceback (most recent call last)",
      "Cell \u001b[0;32mIn[3], line 1\u001b[0m\n\u001b[0;32m----> 1\u001b[0m defect_set \u001b[38;5;241m=\u001b[39m \u001b[43mgenerate_defect_set\u001b[49m\u001b[43m(\u001b[49m\u001b[43mdescriptors\u001b[49m\u001b[43m[\u001b[49m\u001b[38;5;241;43m0\u001b[39;49m\u001b[43m]\u001b[49m\u001b[43m)\u001b[49m\n",
      "File \u001b[0;32m~/ai4material_design/defects_generation/generation.py:147\u001b[0m, in \u001b[0;36mgenerate_defect_set\u001b[0;34m(defect_descriptor)\u001b[0m\n\u001b[1;32m    144\u001b[0m prepare_sites(defect_descriptor, bulk_structure\u001b[38;5;241m.\u001b[39mcopy())\n\u001b[1;32m    146\u001b[0m generated_set \u001b[38;5;241m=\u001b[39m []\n\u001b[0;32m--> 147\u001b[0m \u001b[43mgenerate\u001b[49m\u001b[43m(\u001b[49m\u001b[43mdefect_descriptor\u001b[49m\u001b[43m,\u001b[49m\u001b[43m \u001b[49m\u001b[43mbulk_structure\u001b[49m\u001b[38;5;241;43m.\u001b[39;49m\u001b[43mcopy\u001b[49m\u001b[43m(\u001b[49m\u001b[43m)\u001b[49m\u001b[43m,\u001b[49m\u001b[43m \u001b[49m\u001b[43mgenerated_set\u001b[49m\u001b[43m \u001b[49m\u001b[38;5;241;43m=\u001b[39;49m\u001b[43m \u001b[49m\u001b[43mgenerated_set\u001b[49m\u001b[43m)\u001b[49m\n\u001b[1;32m    149\u001b[0m \u001b[38;5;28;01mfor\u001b[39;00m i \u001b[38;5;129;01min\u001b[39;00m \u001b[38;5;28mrange\u001b[39m(\u001b[38;5;28mlen\u001b[39m(generated_set)):\n\u001b[1;32m    150\u001b[0m     generated_set[i] \u001b[38;5;241m=\u001b[39m generated_set[i]\u001b[38;5;241m.\u001b[39mgenerate_defect_structure()\n",
      "File \u001b[0;32m~/ai4material_design/defects_generation/generation.py:58\u001b[0m, in \u001b[0;36mgenerate\u001b[0;34m(defect_descriptor, structure, level, defected_coords, generated_set)\u001b[0m\n\u001b[1;32m     55\u001b[0m         gen \u001b[38;5;241m=\u001b[39m Vacancy(structure, site\u001b[38;5;241m=\u001b[39mdefect[\u001b[38;5;124m'\u001b[39m\u001b[38;5;124msites\u001b[39m\u001b[38;5;124m'\u001b[39m][\u001b[38;5;241m0\u001b[39m])\n\u001b[1;32m     57\u001b[0m     defect_structure \u001b[38;5;241m=\u001b[39m gen\u001b[38;5;241m.\u001b[39mget_supercell_structure()\n\u001b[0;32m---> 58\u001b[0m     \u001b[43mgenerate\u001b[49m\u001b[43m(\u001b[49m\u001b[43mdefect_descriptor\u001b[49m\u001b[43m,\u001b[49m\u001b[43m \u001b[49m\u001b[43mdefect_structure\u001b[49m\u001b[38;5;241;43m.\u001b[39;49m\u001b[43mcopy\u001b[49m\u001b[43m(\u001b[49m\u001b[43m)\u001b[49m\u001b[43m,\u001b[49m\u001b[43m \u001b[49m\u001b[38;5;241;43m1\u001b[39;49m\u001b[43m,\u001b[49m\n\u001b[1;32m     59\u001b[0m \u001b[43m                         \u001b[49m\u001b[43m[\u001b[49m\u001b[43mdefect\u001b[49m\u001b[43m[\u001b[49m\u001b[38;5;124;43m'\u001b[39;49m\u001b[38;5;124;43msites\u001b[39;49m\u001b[38;5;124;43m'\u001b[39;49m\u001b[43m]\u001b[49m\u001b[43m[\u001b[49m\u001b[38;5;241;43m0\u001b[39;49m\u001b[43m]\u001b[49m\u001b[38;5;241;43m.\u001b[39;49m\u001b[43mcoords\u001b[49m\u001b[43m]\u001b[49m\u001b[43m,\u001b[49m\u001b[43m \u001b[49m\u001b[43mgenerated_set\u001b[49m\u001b[43m)\u001b[49m  \n\u001b[1;32m     61\u001b[0m \u001b[38;5;28;01melif\u001b[39;00m (level \u001b[38;5;241m==\u001b[39m \u001b[38;5;28mlen\u001b[39m(defect_descriptor[\u001b[38;5;124m'\u001b[39m\u001b[38;5;124mdefects\u001b[39m\u001b[38;5;124m'\u001b[39m]) \u001b[38;5;241m-\u001b[39m \u001b[38;5;241m1\u001b[39m):\n\u001b[1;32m     62\u001b[0m     \u001b[38;5;28;01mfor\u001b[39;00m i, site \u001b[38;5;129;01min\u001b[39;00m \u001b[38;5;28menumerate\u001b[39m(defect[\u001b[38;5;124m'\u001b[39m\u001b[38;5;124msites\u001b[39m\u001b[38;5;124m'\u001b[39m]):\n\u001b[1;32m     63\u001b[0m         \u001b[38;5;66;03m# check if the given site is already defected\u001b[39;00m\n",
      "File \u001b[0;32m~/ai4material_design/defects_generation/generation.py:49\u001b[0m, in \u001b[0;36mgenerate\u001b[0;34m(defect_descriptor, structure, level, defected_coords, generated_set)\u001b[0m\n\u001b[1;32m     28\u001b[0m \u001b[38;5;28;01mdef\u001b[39;00m \u001b[38;5;21mgenerate\u001b[39m(defect_descriptor: \u001b[38;5;28mdict\u001b[39m,\n\u001b[1;32m     29\u001b[0m              structure: pymatgen\u001b[38;5;241m.\u001b[39mcore\u001b[38;5;241m.\u001b[39mstructure\u001b[38;5;241m.\u001b[39mIStructure,\n\u001b[1;32m     30\u001b[0m              level: \u001b[38;5;28mint\u001b[39m \u001b[38;5;241m=\u001b[39m\u001b[38;5;241m0\u001b[39m,\n\u001b[1;32m     31\u001b[0m              defected_coords: \u001b[38;5;28mlist\u001b[39m \u001b[38;5;241m=\u001b[39m[],\n\u001b[1;32m     32\u001b[0m              generated_set: \u001b[38;5;28mlist\u001b[39m \u001b[38;5;241m=\u001b[39m [],\n\u001b[1;32m     33\u001b[0m             ) \u001b[38;5;241m-\u001b[39m\u001b[38;5;241m>\u001b[39m \u001b[38;5;28;01mNone\u001b[39;00m:\n\u001b[1;32m     34\u001b[0m \u001b[38;5;250m    \u001b[39m\u001b[38;5;124;03m\"\"\" \u001b[39;00m\n\u001b[1;32m     35\u001b[0m \u001b[38;5;124;03m    Recursive search for the defect \u001b[39;00m\n\u001b[1;32m     36\u001b[0m \u001b[38;5;124;03m    Args: \u001b[39;00m\n\u001b[0;32m   (...)\u001b[0m\n\u001b[1;32m     47\u001b[0m \u001b[38;5;124;03m        is invariant to one of the computed\u001b[39;00m\n\u001b[1;32m     48\u001b[0m \u001b[38;5;124;03m    \"\"\"\u001b[39;00m    \n\u001b[0;32m---> 49\u001b[0m     defect \u001b[38;5;241m=\u001b[39m \u001b[43mdefect_descriptor\u001b[49m\u001b[43m[\u001b[49m\u001b[38;5;124;43m'\u001b[39;49m\u001b[38;5;124;43mdefects\u001b[39;49m\u001b[38;5;124;43m'\u001b[39;49m\u001b[43m]\u001b[49m\u001b[43m[\u001b[49m\u001b[43mlevel\u001b[49m\u001b[43m]\u001b[49m\n\u001b[1;32m     51\u001b[0m     \u001b[38;5;28;01mif\u001b[39;00m (level \u001b[38;5;241m==\u001b[39m \u001b[38;5;241m0\u001b[39m):\n\u001b[1;32m     52\u001b[0m         \u001b[38;5;28;01mif\u001b[39;00m (defect[\u001b[38;5;124m'\u001b[39m\u001b[38;5;124mtype\u001b[39m\u001b[38;5;124m'\u001b[39m] \u001b[38;5;241m==\u001b[39m \u001b[38;5;124m'\u001b[39m\u001b[38;5;124msubstitution\u001b[39m\u001b[38;5;124m'\u001b[39m):\n",
      "\u001b[0;31mIndexError\u001b[0m: list index out of range"
     ]
    }
   ],
   "source": [
    "defect_set = generate_defect_set(descriptors[0])"
   ]
  },
  {
   "cell_type": "code",
   "execution_count": 4,
   "id": "assisted-berkeley",
   "metadata": {},
   "outputs": [
    {
     "data": {
      "text/plain": [
       "Structure Summary\n",
       "Lattice\n",
       "    abc : 9.572190990000003 9.57219099 14.202402\n",
       " angles : 90.00000000000001 90.0 120.00000000000001\n",
       " volume : 1126.9772355466234\n",
       "      A : -4.786095495000003 -8.289760567216517 -1.1722553056730635e-15\n",
       "      B : -4.786095494999998 8.289760567216517 5.861276528365318e-16\n",
       "      C : 0.0 0.0 -14.202402\n",
       "PeriodicSite: W (-1.5954, 0.9211, -3.5506) [0.1111, 0.2222, 0.2500]\n",
       "PeriodicSite: W (-3.1907, 3.6843, -3.5506) [0.1111, 0.5556, 0.2500]\n",
       "PeriodicSite: W (-4.7861, 6.4476, -3.5506) [0.1111, 0.8889, 0.2500]\n",
       "PeriodicSite: W (-3.1907, -1.8422, -3.5506) [0.4444, 0.2222, 0.2500]\n",
       "PeriodicSite: W (-4.7861, 0.9211, -3.5506) [0.4444, 0.5556, 0.2500]\n",
       "PeriodicSite: W (-6.3815, 3.6843, -3.5506) [0.4444, 0.8889, 0.2500]\n",
       "PeriodicSite: W (-4.7861, -4.6054, -3.5506) [0.7778, 0.2222, 0.2500]\n",
       "PeriodicSite: W (-6.3815, -1.8422, -3.5506) [0.7778, 0.5556, 0.2500]\n",
       "PeriodicSite: W (-7.9768, 0.9211, -3.5506) [0.7778, 0.8889, 0.2500]\n",
       "PeriodicSite: S (-4.7861, 4.6054, -5.1236) [0.2222, 0.7778, 0.3608]\n",
       "PeriodicSite: S (-3.1907, -3.6843, -5.1236) [0.5556, 0.1111, 0.3608]\n",
       "PeriodicSite: S (-4.7861, -0.9211, -5.1236) [0.5556, 0.4444, 0.3608]\n",
       "PeriodicSite: S (-6.3815, 1.8422, -5.1236) [0.5556, 0.7778, 0.3608]\n",
       "PeriodicSite: S (-4.7861, -6.4476, -5.1236) [0.8889, 0.1111, 0.3608]\n",
       "PeriodicSite: S (-6.3815, -3.6843, -5.1236) [0.8889, 0.4444, 0.3608]\n",
       "PeriodicSite: S (-7.9768, -0.9211, -5.1236) [0.8889, 0.7778, 0.3608]\n",
       "PeriodicSite: S (-1.5954, -0.9211, -1.9776) [0.2222, 0.1111, 0.1392]\n",
       "PeriodicSite: S (-3.1907, 1.8422, -1.9776) [0.2222, 0.4444, 0.1392]\n",
       "PeriodicSite: S (-4.7861, 4.6054, -1.9776) [0.2222, 0.7778, 0.1392]\n",
       "PeriodicSite: S (-3.1907, -3.6843, -1.9776) [0.5556, 0.1111, 0.1392]\n",
       "PeriodicSite: S (-4.7861, -0.9211, -1.9776) [0.5556, 0.4444, 0.1392]\n",
       "PeriodicSite: S (-6.3815, 1.8422, -1.9776) [0.5556, 0.7778, 0.1392]\n",
       "PeriodicSite: S (-4.7861, -6.4476, -1.9776) [0.8889, 0.1111, 0.1392]\n",
       "PeriodicSite: S (-6.3815, -3.6843, -1.9776) [0.8889, 0.4444, 0.1392]\n",
       "PeriodicSite: S (-7.9768, -0.9211, -1.9776) [0.8889, 0.7778, 0.1392]"
      ]
     },
     "execution_count": 4,
     "metadata": {},
     "output_type": "execute_result"
    }
   ],
   "source": [
    "defect_set[0]"
   ]
  }
 ],
 "metadata": {
  "kernelspec": {
   "display_name": ".venv",
   "language": "python",
   "name": "python3"
  },
  "language_info": {
   "codemirror_mode": {
    "name": "ipython",
    "version": 3
   },
   "file_extension": ".py",
   "mimetype": "text/x-python",
   "name": "python",
   "nbconvert_exporter": "python",
   "pygments_lexer": "ipython3",
   "version": "3.9.6"
  }
 },
 "nbformat": 4,
 "nbformat_minor": 5
}
